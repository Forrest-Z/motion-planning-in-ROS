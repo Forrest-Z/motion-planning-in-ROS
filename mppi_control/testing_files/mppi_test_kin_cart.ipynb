{
 "cells": [
  {
   "cell_type": "code",
   "execution_count": 1,
   "metadata": {},
   "outputs": [],
   "source": [
    "import numpy as np\n",
    "import matplotlib.pyplot as plt\n",
    "from scipy.integrate import solve_ivp, solve_bvp, trapz\n",
    "\n",
    "np.random.seed(0)"
   ]
  },
  {
   "cell_type": "code",
   "execution_count": null,
   "metadata": {},
   "outputs": [],
   "source": [
    "# def mppi(cur_state, fun, uvec, horizon, lam=0.01, sig=0.2)\n",
    "\n",
    "def f(th,u):    \n",
    "    return np.array([np.cos(th)*u[0], np.sin(th)*u0, u1])\n",
    "\n",
    "def step(x, u, dt):\n",
    "    return x + f(x[2], u) * dt\n",
    "\n",
    "def l(x, a, e, lam, sig):\n",
    "    \n",
    "    return \n",
    "\n",
    "t0 = 0\n",
    "horizon = 2\n",
    "t_div = 1000\n",
    "\n",
    "t_cur = t0\n",
    "tspan = [t_cur, t_cur+horizon]\n",
    "tvec = np.linspace(tspan[0], tspan[1], t_div)\n",
    "\n",
    "dt = (tspan[1] - tspan[0]) / t_div\n",
    "\n",
    "x0 = np.array([0,0,np.pi/2])\n",
    "\n",
    "N = 10\n",
    "\n",
    "J = np.zeros([N,t_div])\n",
    "\n",
    "eps = []\n",
    "\n",
    "for i in range(N):\n",
    "    e = np.random.normal(0, sig, size=(avec.shape))\n",
    "    \n",
    "    eps.append(np.copy(e))\n",
    "    \n",
    "    xvec = np.zeros([len(x0), tdiv])\n",
    "    xvec[:,0] = np.copy(x0)   \n",
    "    \n",
    "    for j in range(tdiv-1):\n",
    "        \n",
    "        xvec[:,i+1] = step(xvec[:,i], avec[:,i] + e[:,i], dt) # calculate next state\n",
    "        \n",
    "        J[i,j] = l(xvec[:,i], avec[:,i], e[:,i], lam, sig)\n",
    "    \n",
    "    J[i,-1] = m(xvec[:,-1])\n",
    "    \n",
    "    J[i,:] = np.cumsum(J[i,::-1])\n",
    "        \n",
    "    \n"
   ]
  }
 ],
 "metadata": {
  "kernelspec": {
   "display_name": "Python 3",
   "language": "python",
   "name": "python3"
  },
  "language_info": {
   "codemirror_mode": {
    "name": "ipython",
    "version": 3
   },
   "file_extension": ".py",
   "mimetype": "text/x-python",
   "name": "python",
   "nbconvert_exporter": "python",
   "pygments_lexer": "ipython3",
   "version": "3.6.9"
  }
 },
 "nbformat": 4,
 "nbformat_minor": 4
}
